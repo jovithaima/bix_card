{
  "nbformat": 4,
  "nbformat_minor": 0,
  "metadata": {
    "colab": {
      "provenance": []
    },
    "kernelspec": {
      "name": "python3",
      "display_name": "Python 3"
    },
    "language_info": {
      "name": "python"
    }
  },
  "cells": [
    {
      "cell_type": "code",
      "execution_count": null,
      "metadata": {
        "colab": {
          "base_uri": "https://localhost:8080/"
        },
        "id": "DcoWTzXdtACP",
        "outputId": "cbf85b34-381e-4c96-dbb8-5fb3c992d97e"
      },
      "outputs": [
        {
          "output_type": "stream",
          "name": "stdout",
          "text": [
            "Collecting easyocr\n",
            "  Downloading easyocr-1.7.1-py3-none-any.whl (2.9 MB)\n",
            "\u001b[2K     \u001b[90m━━━━━━━━━━━━━━━━━━━━━━━━━━━━━━━━━━━━━━━━\u001b[0m \u001b[32m2.9/2.9 MB\u001b[0m \u001b[31m9.7 MB/s\u001b[0m eta \u001b[36m0:00:00\u001b[0m\n",
            "\u001b[?25hRequirement already satisfied: torch in /usr/local/lib/python3.10/dist-packages (from easyocr) (2.1.0+cu118)\n",
            "Requirement already satisfied: torchvision>=0.5 in /usr/local/lib/python3.10/dist-packages (from easyocr) (0.16.0+cu118)\n",
            "Requirement already satisfied: opencv-python-headless in /usr/local/lib/python3.10/dist-packages (from easyocr) (4.8.1.78)\n",
            "Requirement already satisfied: scipy in /usr/local/lib/python3.10/dist-packages (from easyocr) (1.11.4)\n",
            "Requirement already satisfied: numpy in /usr/local/lib/python3.10/dist-packages (from easyocr) (1.23.5)\n",
            "Requirement already satisfied: Pillow in /usr/local/lib/python3.10/dist-packages (from easyocr) (9.4.0)\n",
            "Requirement already satisfied: scikit-image in /usr/local/lib/python3.10/dist-packages (from easyocr) (0.19.3)\n",
            "Collecting python-bidi (from easyocr)\n",
            "  Downloading python_bidi-0.4.2-py2.py3-none-any.whl (30 kB)\n",
            "Requirement already satisfied: PyYAML in /usr/local/lib/python3.10/dist-packages (from easyocr) (6.0.1)\n",
            "Requirement already satisfied: Shapely in /usr/local/lib/python3.10/dist-packages (from easyocr) (2.0.2)\n",
            "Collecting pyclipper (from easyocr)\n",
            "  Downloading pyclipper-1.3.0.post5-cp310-cp310-manylinux_2_12_x86_64.manylinux2010_x86_64.whl (908 kB)\n",
            "\u001b[2K     \u001b[90m━━━━━━━━━━━━━━━━━━━━━━━━━━━━━━━━━━━━━━━━\u001b[0m \u001b[32m908.3/908.3 kB\u001b[0m \u001b[31m15.3 MB/s\u001b[0m eta \u001b[36m0:00:00\u001b[0m\n",
            "\u001b[?25hCollecting ninja (from easyocr)\n",
            "  Downloading ninja-1.11.1.1-py2.py3-none-manylinux1_x86_64.manylinux_2_5_x86_64.whl (307 kB)\n",
            "\u001b[2K     \u001b[90m━━━━━━━━━━━━━━━━━━━━━━━━━━━━━━━━━━━━━━━━\u001b[0m \u001b[32m307.2/307.2 kB\u001b[0m \u001b[31m13.1 MB/s\u001b[0m eta \u001b[36m0:00:00\u001b[0m\n",
            "\u001b[?25hRequirement already satisfied: requests in /usr/local/lib/python3.10/dist-packages (from torchvision>=0.5->easyocr) (2.31.0)\n",
            "Requirement already satisfied: filelock in /usr/local/lib/python3.10/dist-packages (from torch->easyocr) (3.13.1)\n",
            "Requirement already satisfied: typing-extensions in /usr/local/lib/python3.10/dist-packages (from torch->easyocr) (4.5.0)\n",
            "Requirement already satisfied: sympy in /usr/local/lib/python3.10/dist-packages (from torch->easyocr) (1.12)\n",
            "Requirement already satisfied: networkx in /usr/local/lib/python3.10/dist-packages (from torch->easyocr) (3.2.1)\n",
            "Requirement already satisfied: jinja2 in /usr/local/lib/python3.10/dist-packages (from torch->easyocr) (3.1.2)\n",
            "Requirement already satisfied: fsspec in /usr/local/lib/python3.10/dist-packages (from torch->easyocr) (2023.6.0)\n",
            "Requirement already satisfied: triton==2.1.0 in /usr/local/lib/python3.10/dist-packages (from torch->easyocr) (2.1.0)\n",
            "Requirement already satisfied: six in /usr/local/lib/python3.10/dist-packages (from python-bidi->easyocr) (1.16.0)\n",
            "Requirement already satisfied: imageio>=2.4.1 in /usr/local/lib/python3.10/dist-packages (from scikit-image->easyocr) (2.31.6)\n",
            "Requirement already satisfied: tifffile>=2019.7.26 in /usr/local/lib/python3.10/dist-packages (from scikit-image->easyocr) (2023.9.26)\n",
            "Requirement already satisfied: PyWavelets>=1.1.1 in /usr/local/lib/python3.10/dist-packages (from scikit-image->easyocr) (1.5.0)\n",
            "Requirement already satisfied: packaging>=20.0 in /usr/local/lib/python3.10/dist-packages (from scikit-image->easyocr) (23.2)\n",
            "Requirement already satisfied: MarkupSafe>=2.0 in /usr/local/lib/python3.10/dist-packages (from jinja2->torch->easyocr) (2.1.3)\n",
            "Requirement already satisfied: charset-normalizer<4,>=2 in /usr/local/lib/python3.10/dist-packages (from requests->torchvision>=0.5->easyocr) (3.3.2)\n",
            "Requirement already satisfied: idna<4,>=2.5 in /usr/local/lib/python3.10/dist-packages (from requests->torchvision>=0.5->easyocr) (3.6)\n",
            "Requirement already satisfied: urllib3<3,>=1.21.1 in /usr/local/lib/python3.10/dist-packages (from requests->torchvision>=0.5->easyocr) (2.0.7)\n",
            "Requirement already satisfied: certifi>=2017.4.17 in /usr/local/lib/python3.10/dist-packages (from requests->torchvision>=0.5->easyocr) (2023.11.17)\n",
            "Requirement already satisfied: mpmath>=0.19 in /usr/local/lib/python3.10/dist-packages (from sympy->torch->easyocr) (1.3.0)\n",
            "Installing collected packages: pyclipper, ninja, python-bidi, easyocr\n",
            "Successfully installed easyocr-1.7.1 ninja-1.11.1.1 pyclipper-1.3.0.post5 python-bidi-0.4.2\n"
          ]
        }
      ],
      "source": [
        "!pip install easyocr"
      ]
    },
    {
      "cell_type": "code",
      "source": [
        "import easyocr\n",
        "import pandas as pd\n",
        "import numpy as np\n",
        "import os\n",
        "import re"
      ],
      "metadata": {
        "id": "J6U5AmuftYJv"
      },
      "execution_count": null,
      "outputs": []
    },
    {
      "cell_type": "code",
      "source": [
        "reader=easyocr.Reader([\"ch_sim\",\"en\"])"
      ],
      "metadata": {
        "colab": {
          "base_uri": "https://localhost:8080/"
        },
        "id": "JPddcb8MtYfw",
        "outputId": "e54d243c-2b5f-480e-c7c1-0f3be4d89ac6"
      },
      "execution_count": null,
      "outputs": [
        {
          "output_type": "stream",
          "name": "stderr",
          "text": [
            "WARNING:easyocr.easyocr:Neither CUDA nor MPS are available - defaulting to CPU. Note: This module is much faster with a GPU.\n",
            "WARNING:easyocr.easyocr:Downloading detection model, please wait. This may take several minutes depending upon your network connection.\n"
          ]
        },
        {
          "output_type": "stream",
          "name": "stdout",
          "text": [
            "Progress: |██████████████████████████████████████████████████| 100.0% Complete"
          ]
        },
        {
          "output_type": "stream",
          "name": "stderr",
          "text": [
            "WARNING:easyocr.easyocr:Downloading recognition model, please wait. This may take several minutes depending upon your network connection.\n"
          ]
        },
        {
          "output_type": "stream",
          "name": "stdout",
          "text": [
            "Progress: |██████████████████████████████████████████████████| 100.0% Complete"
          ]
        }
      ]
    },
    {
      "cell_type": "code",
      "source": [
        "\n",
        "img1=reader.readtext(\"/content/drive/MyDrive/Classroom/image/1.png\",detail=0)\n",
        "print(img1)"
      ],
      "metadata": {
        "colab": {
          "base_uri": "https://localhost:8080/"
        },
        "id": "bqtfHtAmtwl0",
        "outputId": "3438eca0-ea10-4833-cec6-86262addbf70"
      },
      "execution_count": null,
      "outputs": [
        {
          "output_type": "stream",
          "name": "stdout",
          "text": [
            "['Selva', 'DATA MANAGER', '+123-456-7890', '+123-456-7891', 'WWW.XYZI.com', 'hello@XYZI.com', '123 ABC St Chennai,', 'SelVa', 'TamilNadu 600113', 'digitals']\n"
          ]
        }
      ]
    },
    {
      "cell_type": "code",
      "source": [
        "img2=reader.readtext(\"/content/drive/MyDrive/Classroom/image/2.png\",detail=0)\n",
        "print(img2)\n"
      ],
      "metadata": {
        "colab": {
          "base_uri": "https://localhost:8080/"
        },
        "id": "aPb3RjtXtwyP",
        "outputId": "1bfcee53-0541-40b0-92cf-c7413411d1ec"
      },
      "execution_count": null,
      "outputs": [
        {
          "output_type": "stream",
          "name": "stdout",
          "text": [
            "['Amit Kumar', 'CEO & FOUNDER', '123-456-7569', 'hello@global.com', 'TTT', 'global.com', '123 global', 'Erode;', 'GLOBAL', 'TamilNadu 600115', 'INSURANCE', 'St;']\n"
          ]
        }
      ]
    },
    {
      "cell_type": "code",
      "source": [
        "img3=reader.readtext(\"/content/drive/MyDrive/Classroom/image/3.png\",detail=0)\n",
        "print(img3)\n"
      ],
      "metadata": {
        "colab": {
          "base_uri": "https://localhost:8080/"
        },
        "id": "BhaE0j6wwiOU",
        "outputId": "b96543d3-26f1-459f-f2e8-44f11a9f8143"
      },
      "execution_count": null,
      "outputs": [
        {
          "output_type": "stream",
          "name": "stdout",
          "text": [
            "['KARTHICK', 'General Manager', '123 ABC St , Salem,', 'TamilNadu 6004513', '+123-456-7890', 'hello@Borcelle.com', 'WWW. Borcelle.com', 'BORCELCE', 'AIRLINES']\n"
          ]
        }
      ]
    },
    {
      "cell_type": "code",
      "source": [
        "img4=reader.readtext(\"/content/drive/MyDrive/Classroom/image/4.png\",detail=0)\n",
        "print(img4)\n"
      ],
      "metadata": {
        "colab": {
          "base_uri": "https://localhost:8080/"
        },
        "id": "Q5I1x6kPw4z_",
        "outputId": "3d938848-84de-4838-e875-3e2331b0d0d7"
      },
      "execution_count": null,
      "outputs": [
        {
          "output_type": "stream",
          "name": "stdout",
          "text": [
            "['REVANTH', 'Marketing Executive', '123 ABC St. HYDRABAD, TamilNadu,', '600001', '+91-456-1234', 'hello@CHRISTMAS.com', 'Family', 'WWW.CHRISTMAS.com', 'Restaurant']\n"
          ]
        }
      ]
    },
    {
      "cell_type": "code",
      "source": [
        "img5=reader.readtext(\"/content/drive/MyDrive/Classroom/image/5.png\",detail=0)\n",
        "print(img5)\n"
      ],
      "metadata": {
        "colab": {
          "base_uri": "https://localhost:8080/"
        },
        "id": "ACxNuyJexJI4",
        "outputId": "2c128cd0-e579-42d5-f297-5d28f4edbdcb"
      },
      "execution_count": null,
      "outputs": [
        {
          "output_type": "stream",
          "name": "stdout",
          "text": [
            "['SANTHOSH', 'Technical Manager', '123 ABC St, Tirupur, TamilNadu;', '641603', '+123-456-1234', 'hello@Sun.com', 'WWWSun.com', 'Sun Electricals']\n"
          ]
        }
      ]
    },
    {
      "cell_type": "code",
      "source": [
        "def phno(image):\n",
        "          num = []\n",
        "          for i in image:\n",
        "            if re.findall(r'^[+]',i):\n",
        "              num.append(i)\n",
        "            elif(re.findall(r'^\\d{3}-\\d{3}-\\d{4}$',i)):\n",
        "              num.append(i)\n",
        "          return num"
      ],
      "metadata": {
        "id": "rvyf_BNUxJKU"
      },
      "execution_count": null,
      "outputs": []
    },
    {
      "cell_type": "code",
      "source": [
        "def email(image):\n",
        "          for i in image:\n",
        "            if(re.findall(r'[\\w\\.-]+@[\\w\\.-]+',i)):\n",
        "              return i"
      ],
      "metadata": {
        "id": "eQgxASkv2tlR"
      },
      "execution_count": null,
      "outputs": []
    },
    {
      "cell_type": "code",
      "source": [
        "def website(image):\n",
        "          website = \"\"\n",
        "          for i in image:\n",
        "            if re.match(r'^WWW(?=.*\\.com)', i):\n",
        "              website = i\n",
        "            elif re.match(r'^\\w+\\.com$', i):\n",
        "              website = ('WWW.'+i)\n",
        "          if len(website) ==0:\n",
        "            website = \"not available\"\n",
        "          else:\n",
        "            return website"
      ],
      "metadata": {
        "id": "x22j_GLY3Z3o"
      },
      "execution_count": null,
      "outputs": []
    },
    {
      "cell_type": "code",
      "source": [
        "def name(image):\n",
        "          for i in image:\n",
        "            return i"
      ],
      "metadata": {
        "id": "Q3PxG-V9DLWP"
      },
      "execution_count": null,
      "outputs": []
    },
    {
      "cell_type": "code",
      "source": [
        "def designation(image):\n",
        "          for i in image:\n",
        "            return image[1]"
      ],
      "metadata": {
        "id": "OLb8xqTxDLXc"
      },
      "execution_count": null,
      "outputs": []
    },
    {
      "cell_type": "code",
      "source": [
        "def address(image):\n",
        "          for i in image:\n",
        "            if(re.findall(r'^123+\\\\s[\\\\w\\\\.-]+',i)):\n",
        "              return i[0:10]"
      ],
      "metadata": {
        "id": "uEd_bEzYDfED"
      },
      "execution_count": null,
      "outputs": []
    },
    {
      "cell_type": "code",
      "source": [
        "def domain(image):\n",
        "          for i in image[-1]:\n",
        "            if len(image[-1])> 5:\n",
        "              return image[-1]\n",
        "            else:\n",
        "              return image[-2]"
      ],
      "metadata": {
        "id": "5W0HrTfADfFb"
      },
      "execution_count": null,
      "outputs": []
    },
    {
      "cell_type": "code",
      "source": [
        "def district(image):\n",
        "          for i in image:\n",
        "            if(re.search(r'^123+\\s',i)):\n",
        "              if len(i[10:20])> 6:\n",
        "                return i[11:20].replace(\",\",\"\\\"\")\n",
        "            elif (re.search(r'\\bErode\\b',i)):\n",
        "              return i.replace(\";\",\"\")\n",
        "          return \"Not Available\""
      ],
      "metadata": {
        "id": "LZrJATP3DfI-"
      },
      "execution_count": null,
      "outputs": []
    },
    {
      "cell_type": "code",
      "source": [
        "def pincode(image):\n",
        "            pincode = None\n",
        "            for i in image:\n",
        "                pincode_match = re.search(r'(\\d{6})|\\b(\\d{3}\\s*\\d{3})\\b', i)\n",
        "                if pincode_match:\n",
        "                    pincode = pincode_match.group(0).replace(' ', '')\n",
        "            return pincode"
      ],
      "metadata": {
        "id": "6g8tDCVSDfKG"
      },
      "execution_count": null,
      "outputs": []
    },
    {
      "cell_type": "code",
      "source": [
        "def state(image):\n",
        "            for i in image:\n",
        "                match = re.search(r'TamilNadu', i)\n",
        "                if match:\n",
        "                    return match.group()\n",
        "            return \"Not found\""
      ],
      "metadata": {
        "id": "jnKFicVPDLlN"
      },
      "execution_count": null,
      "outputs": []
    },
    {
      "cell_type": "code",
      "source": [
        "def data(image):\n",
        "    data = {}\n",
        "    data['Name'] = name(image)\n",
        "    data['Designation'] = designation(image)\n",
        "    data['Domain'] = domain(image)\n",
        "    data['Contact'] = phno(image)\n",
        "    data['E-mail'] = email(image)\n",
        "    data['Website'] = website(image)\n",
        "    data['Address'] = address(image)\n",
        "    data['District'] = district(image)\n",
        "    data['State'] = state(image)\n",
        "    data['Pincode'] = pincode(image)\n",
        "    return data"
      ],
      "metadata": {
        "id": "Fdug4VA0HLpq"
      },
      "execution_count": null,
      "outputs": []
    },
    {
      "cell_type": "code",
      "source": [
        "        df_1 = pd.DataFrame(data(img1))\n",
        "        df_2 = pd.DataFrame(data(img2))\n",
        "        df_3 = pd.DataFrame(data(img3))\n",
        "        df_4 = pd.DataFrame(data(img4))\n",
        "        df_5 = pd.DataFrame(data(img5))\n"
      ],
      "metadata": {
        "id": "oSkUw73PKckF"
      },
      "execution_count": null,
      "outputs": []
    },
    {
      "cell_type": "code",
      "source": [
        "df = pd.concat([df_1,df_2,df_3,df_4,df_5])"
      ],
      "metadata": {
        "id": "vTz_7Do_KMLx"
      },
      "execution_count": null,
      "outputs": []
    },
    {
      "cell_type": "code",
      "source": [
        "df.to_csv('Extracted_data.csv',index=False)"
      ],
      "metadata": {
        "id": "NEMsTawsSNLG"
      },
      "execution_count": null,
      "outputs": []
    },
    {
      "cell_type": "code",
      "source": [
        "pd.read_csv('Extracted_data.csv')"
      ],
      "metadata": {
        "colab": {
          "base_uri": "https://localhost:8080/",
          "height": 417
        },
        "id": "4oNPTRI1SNJw",
        "outputId": "af55a450-fabf-4f4c-b73f-8bc33b0fd7c1"
      },
      "execution_count": null,
      "outputs": [
        {
          "output_type": "execute_result",
          "data": {
            "text/plain": [
              "       Name          Designation           Domain        Contact  E-mail  \\\n",
              "0     Selva         DATA MANAGER         digitals  +123-456-7890     NaN   \n",
              "1     Selva         DATA MANAGER         digitals  +123-456-7891     NaN   \n",
              "2  KARTHICK      General Manager         AIRLINES  +123-456-7890     NaN   \n",
              "3   REVANTH  Marketing Executive       Restaurant   +91-456-1234     NaN   \n",
              "4  SANTHOSH    Technical Manager  Sun Electricals  +123-456-1234     NaN   \n",
              "\n",
              "             Website  Address   District      State  Pincode  \n",
              "0       WWW.XYZI.com      NaN   Chennai\"  TamilNadu   600113  \n",
              "1       WWW.XYZI.com      NaN   Chennai\"  TamilNadu   600113  \n",
              "2  WWW. Borcelle.com      NaN   \" Salem\"  TamilNadu   600451  \n",
              "3  WWW.CHRISTMAS.com      NaN   HYDRABAD  TamilNadu   600001  \n",
              "4         WWWSun.com      NaN   Tirupur\"  TamilNadu   641603  "
            ],
            "text/html": [
              "\n",
              "  <div id=\"df-6309e27f-f113-4e69-8acb-8a238be791db\" class=\"colab-df-container\">\n",
              "    <div>\n",
              "<style scoped>\n",
              "    .dataframe tbody tr th:only-of-type {\n",
              "        vertical-align: middle;\n",
              "    }\n",
              "\n",
              "    .dataframe tbody tr th {\n",
              "        vertical-align: top;\n",
              "    }\n",
              "\n",
              "    .dataframe thead th {\n",
              "        text-align: right;\n",
              "    }\n",
              "</style>\n",
              "<table border=\"1\" class=\"dataframe\">\n",
              "  <thead>\n",
              "    <tr style=\"text-align: right;\">\n",
              "      <th></th>\n",
              "      <th>Name</th>\n",
              "      <th>Designation</th>\n",
              "      <th>Domain</th>\n",
              "      <th>Contact</th>\n",
              "      <th>E-mail</th>\n",
              "      <th>Website</th>\n",
              "      <th>Address</th>\n",
              "      <th>District</th>\n",
              "      <th>State</th>\n",
              "      <th>Pincode</th>\n",
              "    </tr>\n",
              "  </thead>\n",
              "  <tbody>\n",
              "    <tr>\n",
              "      <th>0</th>\n",
              "      <td>Selva</td>\n",
              "      <td>DATA MANAGER</td>\n",
              "      <td>digitals</td>\n",
              "      <td>+123-456-7890</td>\n",
              "      <td>NaN</td>\n",
              "      <td>WWW.XYZI.com</td>\n",
              "      <td>NaN</td>\n",
              "      <td>Chennai\"</td>\n",
              "      <td>TamilNadu</td>\n",
              "      <td>600113</td>\n",
              "    </tr>\n",
              "    <tr>\n",
              "      <th>1</th>\n",
              "      <td>Selva</td>\n",
              "      <td>DATA MANAGER</td>\n",
              "      <td>digitals</td>\n",
              "      <td>+123-456-7891</td>\n",
              "      <td>NaN</td>\n",
              "      <td>WWW.XYZI.com</td>\n",
              "      <td>NaN</td>\n",
              "      <td>Chennai\"</td>\n",
              "      <td>TamilNadu</td>\n",
              "      <td>600113</td>\n",
              "    </tr>\n",
              "    <tr>\n",
              "      <th>2</th>\n",
              "      <td>KARTHICK</td>\n",
              "      <td>General Manager</td>\n",
              "      <td>AIRLINES</td>\n",
              "      <td>+123-456-7890</td>\n",
              "      <td>NaN</td>\n",
              "      <td>WWW. Borcelle.com</td>\n",
              "      <td>NaN</td>\n",
              "      <td>\" Salem\"</td>\n",
              "      <td>TamilNadu</td>\n",
              "      <td>600451</td>\n",
              "    </tr>\n",
              "    <tr>\n",
              "      <th>3</th>\n",
              "      <td>REVANTH</td>\n",
              "      <td>Marketing Executive</td>\n",
              "      <td>Restaurant</td>\n",
              "      <td>+91-456-1234</td>\n",
              "      <td>NaN</td>\n",
              "      <td>WWW.CHRISTMAS.com</td>\n",
              "      <td>NaN</td>\n",
              "      <td>HYDRABAD</td>\n",
              "      <td>TamilNadu</td>\n",
              "      <td>600001</td>\n",
              "    </tr>\n",
              "    <tr>\n",
              "      <th>4</th>\n",
              "      <td>SANTHOSH</td>\n",
              "      <td>Technical Manager</td>\n",
              "      <td>Sun Electricals</td>\n",
              "      <td>+123-456-1234</td>\n",
              "      <td>NaN</td>\n",
              "      <td>WWWSun.com</td>\n",
              "      <td>NaN</td>\n",
              "      <td>Tirupur\"</td>\n",
              "      <td>TamilNadu</td>\n",
              "      <td>641603</td>\n",
              "    </tr>\n",
              "  </tbody>\n",
              "</table>\n",
              "</div>\n",
              "    <div class=\"colab-df-buttons\">\n",
              "\n",
              "  <div class=\"colab-df-container\">\n",
              "    <button class=\"colab-df-convert\" onclick=\"convertToInteractive('df-6309e27f-f113-4e69-8acb-8a238be791db')\"\n",
              "            title=\"Convert this dataframe to an interactive table.\"\n",
              "            style=\"display:none;\">\n",
              "\n",
              "  <svg xmlns=\"http://www.w3.org/2000/svg\" height=\"24px\" viewBox=\"0 -960 960 960\">\n",
              "    <path d=\"M120-120v-720h720v720H120Zm60-500h600v-160H180v160Zm220 220h160v-160H400v160Zm0 220h160v-160H400v160ZM180-400h160v-160H180v160Zm440 0h160v-160H620v160ZM180-180h160v-160H180v160Zm440 0h160v-160H620v160Z\"/>\n",
              "  </svg>\n",
              "    </button>\n",
              "\n",
              "  <style>\n",
              "    .colab-df-container {\n",
              "      display:flex;\n",
              "      gap: 12px;\n",
              "    }\n",
              "\n",
              "    .colab-df-convert {\n",
              "      background-color: #E8F0FE;\n",
              "      border: none;\n",
              "      border-radius: 50%;\n",
              "      cursor: pointer;\n",
              "      display: none;\n",
              "      fill: #1967D2;\n",
              "      height: 32px;\n",
              "      padding: 0 0 0 0;\n",
              "      width: 32px;\n",
              "    }\n",
              "\n",
              "    .colab-df-convert:hover {\n",
              "      background-color: #E2EBFA;\n",
              "      box-shadow: 0px 1px 2px rgba(60, 64, 67, 0.3), 0px 1px 3px 1px rgba(60, 64, 67, 0.15);\n",
              "      fill: #174EA6;\n",
              "    }\n",
              "\n",
              "    .colab-df-buttons div {\n",
              "      margin-bottom: 4px;\n",
              "    }\n",
              "\n",
              "    [theme=dark] .colab-df-convert {\n",
              "      background-color: #3B4455;\n",
              "      fill: #D2E3FC;\n",
              "    }\n",
              "\n",
              "    [theme=dark] .colab-df-convert:hover {\n",
              "      background-color: #434B5C;\n",
              "      box-shadow: 0px 1px 3px 1px rgba(0, 0, 0, 0.15);\n",
              "      filter: drop-shadow(0px 1px 2px rgba(0, 0, 0, 0.3));\n",
              "      fill: #FFFFFF;\n",
              "    }\n",
              "  </style>\n",
              "\n",
              "    <script>\n",
              "      const buttonEl =\n",
              "        document.querySelector('#df-6309e27f-f113-4e69-8acb-8a238be791db button.colab-df-convert');\n",
              "      buttonEl.style.display =\n",
              "        google.colab.kernel.accessAllowed ? 'block' : 'none';\n",
              "\n",
              "      async function convertToInteractive(key) {\n",
              "        const element = document.querySelector('#df-6309e27f-f113-4e69-8acb-8a238be791db');\n",
              "        const dataTable =\n",
              "          await google.colab.kernel.invokeFunction('convertToInteractive',\n",
              "                                                    [key], {});\n",
              "        if (!dataTable) return;\n",
              "\n",
              "        const docLinkHtml = 'Like what you see? Visit the ' +\n",
              "          '<a target=\"_blank\" href=https://colab.research.google.com/notebooks/data_table.ipynb>data table notebook</a>'\n",
              "          + ' to learn more about interactive tables.';\n",
              "        element.innerHTML = '';\n",
              "        dataTable['output_type'] = 'display_data';\n",
              "        await google.colab.output.renderOutput(dataTable, element);\n",
              "        const docLink = document.createElement('div');\n",
              "        docLink.innerHTML = docLinkHtml;\n",
              "        element.appendChild(docLink);\n",
              "      }\n",
              "    </script>\n",
              "  </div>\n",
              "\n",
              "\n",
              "<div id=\"df-aa1954a9-fbf1-4ad6-be31-67bf1050591b\">\n",
              "  <button class=\"colab-df-quickchart\" onclick=\"quickchart('df-aa1954a9-fbf1-4ad6-be31-67bf1050591b')\"\n",
              "            title=\"Suggest charts\"\n",
              "            style=\"display:none;\">\n",
              "\n",
              "<svg xmlns=\"http://www.w3.org/2000/svg\" height=\"24px\"viewBox=\"0 0 24 24\"\n",
              "     width=\"24px\">\n",
              "    <g>\n",
              "        <path d=\"M19 3H5c-1.1 0-2 .9-2 2v14c0 1.1.9 2 2 2h14c1.1 0 2-.9 2-2V5c0-1.1-.9-2-2-2zM9 17H7v-7h2v7zm4 0h-2V7h2v10zm4 0h-2v-4h2v4z\"/>\n",
              "    </g>\n",
              "</svg>\n",
              "  </button>\n",
              "\n",
              "<style>\n",
              "  .colab-df-quickchart {\n",
              "      --bg-color: #E8F0FE;\n",
              "      --fill-color: #1967D2;\n",
              "      --hover-bg-color: #E2EBFA;\n",
              "      --hover-fill-color: #174EA6;\n",
              "      --disabled-fill-color: #AAA;\n",
              "      --disabled-bg-color: #DDD;\n",
              "  }\n",
              "\n",
              "  [theme=dark] .colab-df-quickchart {\n",
              "      --bg-color: #3B4455;\n",
              "      --fill-color: #D2E3FC;\n",
              "      --hover-bg-color: #434B5C;\n",
              "      --hover-fill-color: #FFFFFF;\n",
              "      --disabled-bg-color: #3B4455;\n",
              "      --disabled-fill-color: #666;\n",
              "  }\n",
              "\n",
              "  .colab-df-quickchart {\n",
              "    background-color: var(--bg-color);\n",
              "    border: none;\n",
              "    border-radius: 50%;\n",
              "    cursor: pointer;\n",
              "    display: none;\n",
              "    fill: var(--fill-color);\n",
              "    height: 32px;\n",
              "    padding: 0;\n",
              "    width: 32px;\n",
              "  }\n",
              "\n",
              "  .colab-df-quickchart:hover {\n",
              "    background-color: var(--hover-bg-color);\n",
              "    box-shadow: 0 1px 2px rgba(60, 64, 67, 0.3), 0 1px 3px 1px rgba(60, 64, 67, 0.15);\n",
              "    fill: var(--button-hover-fill-color);\n",
              "  }\n",
              "\n",
              "  .colab-df-quickchart-complete:disabled,\n",
              "  .colab-df-quickchart-complete:disabled:hover {\n",
              "    background-color: var(--disabled-bg-color);\n",
              "    fill: var(--disabled-fill-color);\n",
              "    box-shadow: none;\n",
              "  }\n",
              "\n",
              "  .colab-df-spinner {\n",
              "    border: 2px solid var(--fill-color);\n",
              "    border-color: transparent;\n",
              "    border-bottom-color: var(--fill-color);\n",
              "    animation:\n",
              "      spin 1s steps(1) infinite;\n",
              "  }\n",
              "\n",
              "  @keyframes spin {\n",
              "    0% {\n",
              "      border-color: transparent;\n",
              "      border-bottom-color: var(--fill-color);\n",
              "      border-left-color: var(--fill-color);\n",
              "    }\n",
              "    20% {\n",
              "      border-color: transparent;\n",
              "      border-left-color: var(--fill-color);\n",
              "      border-top-color: var(--fill-color);\n",
              "    }\n",
              "    30% {\n",
              "      border-color: transparent;\n",
              "      border-left-color: var(--fill-color);\n",
              "      border-top-color: var(--fill-color);\n",
              "      border-right-color: var(--fill-color);\n",
              "    }\n",
              "    40% {\n",
              "      border-color: transparent;\n",
              "      border-right-color: var(--fill-color);\n",
              "      border-top-color: var(--fill-color);\n",
              "    }\n",
              "    60% {\n",
              "      border-color: transparent;\n",
              "      border-right-color: var(--fill-color);\n",
              "    }\n",
              "    80% {\n",
              "      border-color: transparent;\n",
              "      border-right-color: var(--fill-color);\n",
              "      border-bottom-color: var(--fill-color);\n",
              "    }\n",
              "    90% {\n",
              "      border-color: transparent;\n",
              "      border-bottom-color: var(--fill-color);\n",
              "    }\n",
              "  }\n",
              "</style>\n",
              "\n",
              "  <script>\n",
              "    async function quickchart(key) {\n",
              "      const quickchartButtonEl =\n",
              "        document.querySelector('#' + key + ' button');\n",
              "      quickchartButtonEl.disabled = true;  // To prevent multiple clicks.\n",
              "      quickchartButtonEl.classList.add('colab-df-spinner');\n",
              "      try {\n",
              "        const charts = await google.colab.kernel.invokeFunction(\n",
              "            'suggestCharts', [key], {});\n",
              "      } catch (error) {\n",
              "        console.error('Error during call to suggestCharts:', error);\n",
              "      }\n",
              "      quickchartButtonEl.classList.remove('colab-df-spinner');\n",
              "      quickchartButtonEl.classList.add('colab-df-quickchart-complete');\n",
              "    }\n",
              "    (() => {\n",
              "      let quickchartButtonEl =\n",
              "        document.querySelector('#df-aa1954a9-fbf1-4ad6-be31-67bf1050591b button');\n",
              "      quickchartButtonEl.style.display =\n",
              "        google.colab.kernel.accessAllowed ? 'block' : 'none';\n",
              "    })();\n",
              "  </script>\n",
              "</div>\n",
              "\n",
              "    </div>\n",
              "  </div>\n"
            ]
          },
          "metadata": {},
          "execution_count": 78
        }
      ]
    },
    {
      "cell_type": "code",
      "source": [
        "import sqlite3\n",
        "\n",
        "connection= sqlite3.connect(\"bix_card.db\")\n",
        "cursor= connection.cursor()\n",
        "cursor.execute('''\n",
        "    CREATE TABLE IF NOT EXISTS users (\n",
        "        \"Name\" TEXT,\n",
        "        Designation varchar(100),\n",
        "        Domain varchar(100),\n",
        "        Contact int,\n",
        "        E_mail varchar(100),\n",
        "        Website varchar(100),\n",
        "        Address varchar(100),\n",
        "        District varchar(100),\n",
        "        State varchar(100),\n",
        "        Pincode int\n",
        "    )\n",
        "''')\n",
        "\n",
        "# Commit the changes\n",
        "connection.commit()\n"
      ],
      "metadata": {
        "id": "c73bDyELSNEy"
      },
      "execution_count": null,
      "outputs": []
    },
    {
      "cell_type": "code",
      "source": [],
      "metadata": {
        "id": "HZ09GW1VXDrb"
      },
      "execution_count": null,
      "outputs": []
    },
    {
      "cell_type": "code",
      "source": [
        "conn = sqlite3.connect('businessdetails.db')\n",
        "\n",
        "# Create a cursor\n",
        "cursor = conn.cursor()\n",
        "\n",
        "# Execute SELECT query\n",
        "query = \"SELECT * FROM users\"\n",
        "cursor.execute(query)\n",
        "\n",
        "# Fetch the results\n",
        "rows = cursor.fetchall()\n",
        "\n",
        "# Create a DataFrame from the query results\n",
        "df1 = pd.DataFrame(rows, columns=[column[0] for column in cursor.description])\n",
        "\n",
        "# Display the DataFrame\n",
        "print(df1.tail())\n",
        "\n",
        "# Close the connection\n",
        "conn.close()\n"
      ],
      "metadata": {
        "id": "VkBsh5ivUOeA"
      },
      "execution_count": null,
      "outputs": []
    },
    {
      "cell_type": "code",
      "source": [],
      "metadata": {
        "id": "cNXgaGd8YAnA"
      },
      "execution_count": null,
      "outputs": []
    },
    {
      "cell_type": "code",
      "source": [
        "cursor.execute(\"INSERT INTO users (Name, Designation,Domain,Contact,E_mail,Website,Address,District,State,Pincode) VALUES (?,?,?,?,?,?,?,?,?,?)\",(\"Selva\", \"DATA MANAGER\",\t\"digitals\",\t+123-456-7890\t,\"hello@XYZI.com\",\t\"WWW.XYZI.com\",\t\"123 ABC St\",\t\"Chennai\",\t\"TamilNadu\",\t600113))\n",
        "cursor.execute(\"INSERT INTO users (Name, Designation,Domain,Contact,E_mail,Website,Address,District,State,Pincode) VALUES (?,?,?,?,?,?,?,?,?,?)\",(\"Selva\", \"DATA MANAGER\",\t\"digitals\",\t123-456-7891\t,\"hello@XYZI.com\",\t\"WWW.XYZI.com\",\t\"123 ABC St\",\t\"Chennai\",\t\"TamilNadu\",\t600113))\n",
        "cursor.execute(\"INSERT INTO users (Name, Designation,Domain,Contact,E_mail,Website,Address,District,State,Pincode) VALUES (?,?,?,?,?,?,?,?,?,?)\",(\"Amit Kumar\",\"CEO & FOUNDER\",\"INSURANCE\",+123-456-7569,\"hello@global.com\",\"WWW.global.com\",\"123 global\",\t\"Erode\",\"TamilNadu\", 600115))\n",
        "cursor.execute(\"INSERT INTO users (Name, Designation,Domain,Contact,E_mail,Website,Address,District,State,Pincode) VALUES (?,?,?,?,?,?,?,?,?,?)\",(\"KARTHICK\",\"General Manager\",\"AIRLINES\",+123-456-7890,\"hello@Borcelle.com\",\"WWW.Borcelle.com\",\t\"123 ABC St\",\"Salem\",\"TamilNadu\",600451))\n",
        "cursor.execute(\"INSERT INTO users (Name, Designation,Domain,Contact,E_mail,Website,Address,District,State,Pincode) VALUES (?,?,?,?,?,?,?,?,?,?)\", (\"REVANTH\", \"Marketing Executive\",\t\"Restaurant\",\t+91-456-1234\t,\"hello@CHRISTMAS.com\",\t\"WWW.CHRISTMAS.com\",\t\"123 ABC St\",\t\"HYDRABAD\",\t\"TamilNadu\",\t600001))\n",
        "cursor.execute(\"INSERT INTO users (Name, Designation,Domain,Contact,E_mail,Website,Address,District,State,Pincode) VALUES (?,?,?,?,?,?,?,?,?,?)\", (\"SANTHOSH\", \"Technical Manager\",\t\"Sun Electricals\",\t+123-456-1234\t\t,\"hello@Sun.com\",\t\"WWW.Sun.com\",\t\"123 ABC St\",\t\"Tirupur\",\t\"TamilNadu\",\t641603))\n",
        "\n",
        "# Commit the changes\n",
        "connection.commit()\n",
        "\n",
        "# Fetch and display the data\n",
        "cursor.execute(\"SELECT * FROM users\")\n",
        "rows = cursor.fetchall()\n",
        "\n",
        "for row in rows:\n",
        "    print(row)\n",
        "\n",
        "# Close the connection\n",
        "connection.close()"
      ],
      "metadata": {
        "colab": {
          "base_uri": "https://localhost:8080/"
        },
        "id": "NVvk3JXQUOfk",
        "outputId": "f1ae3602-8577-405f-c9e3-ddbd4dfdc0d4"
      },
      "execution_count": null,
      "outputs": [
        {
          "output_type": "stream",
          "name": "stdout",
          "text": [
            "('Selva', 'DATA MANAGER', 'digitals', -8223, 'hello@XYZI.com', 'WWW.XYZI.com', '123 ABC St', 'Chennai', 'TamilNadu', 600113)\n",
            "('Selva', 'DATA MANAGER', 'digitals', -8224, 'hello@XYZI.com', 'WWW.XYZI.com', '123 ABC St', 'Chennai', 'TamilNadu', 600113)\n",
            "('Amit Kumar', 'CEO & FOUNDER', 'INSURANCE', -7902, 'hello@global.com', 'WWW.global.com', '123 global', 'Erode', 'TamilNadu', 600115)\n",
            "('KARTHICK', 'General Manager', 'AIRLINES', -8223, 'hello@Borcelle.com', 'WWW.Borcelle.com', '123 ABC St', 'Salem', 'TamilNadu', 600451)\n",
            "('REVANTH', 'Marketing Executive', 'Restaurant', -1599, 'hello@CHRISTMAS.com', 'WWW.CHRISTMAS.com', '123 ABC St', 'HYDRABAD', 'TamilNadu', 600001)\n",
            "('SANTHOSH', 'Technical Manager', 'Sun Electricals', -1567, 'hello@Sun.com', 'WWW.Sun.com', '123 ABC St', 'Tirupur', 'TamilNadu', 641603)\n"
          ]
        }
      ]
    },
    {
      "cell_type": "code",
      "source": [
        "connection = sqlite3.connect('bix_card.db')\n",
        "\n",
        "# Create a cursor\n",
        "cursor = connection.cursor()\n",
        "\n",
        "# Execute SELECT query\n",
        "query = \"SELECT * FROM users\"\n",
        "cursor.execute(query)\n",
        "\n",
        "# Fetch the results\n",
        "rows = cursor.fetchall()\n",
        "\n",
        "# Create a DataFrame from the query results\n",
        "df1 = pd.DataFrame(rows, columns=[column[0] for column in cursor.description])\n",
        "\n",
        "# Display the DataFrame\n",
        "print(df1.tail())\n",
        "\n",
        "# Close the connection\n",
        "connection.close()"
      ],
      "metadata": {
        "colab": {
          "base_uri": "https://localhost:8080/"
        },
        "id": "ZS14A9AzYCUl",
        "outputId": "d3e3b043-72dd-4338-f888-37cdbaf104e6"
      },
      "execution_count": null,
      "outputs": [
        {
          "output_type": "stream",
          "name": "stdout",
          "text": [
            "         Name          Designation           Domain  Contact  \\\n",
            "1       Selva         DATA MANAGER         digitals    -8224   \n",
            "2  Amit Kumar        CEO & FOUNDER        INSURANCE    -7902   \n",
            "3    KARTHICK      General Manager         AIRLINES    -8223   \n",
            "4     REVANTH  Marketing Executive       Restaurant    -1599   \n",
            "5    SANTHOSH    Technical Manager  Sun Electricals    -1567   \n",
            "\n",
            "                E_mail            Website     Address  District      State  \\\n",
            "1       hello@XYZI.com       WWW.XYZI.com  123 ABC St   Chennai  TamilNadu   \n",
            "2     hello@global.com     WWW.global.com  123 global     Erode  TamilNadu   \n",
            "3   hello@Borcelle.com   WWW.Borcelle.com  123 ABC St     Salem  TamilNadu   \n",
            "4  hello@CHRISTMAS.com  WWW.CHRISTMAS.com  123 ABC St  HYDRABAD  TamilNadu   \n",
            "5        hello@Sun.com        WWW.Sun.com  123 ABC St   Tirupur  TamilNadu   \n",
            "\n",
            "   Pincode  \n",
            "1   600113  \n",
            "2   600115  \n",
            "3   600451  \n",
            "4   600001  \n",
            "5   641603  \n"
          ]
        }
      ]
    },
    {
      "cell_type": "code",
      "source": [
        "df1"
      ],
      "metadata": {
        "colab": {
          "base_uri": "https://localhost:8080/",
          "height": 361
        },
        "id": "D1UiKmmhYCjs",
        "outputId": "5a81675f-31ac-4d73-c7c7-fd45b02ecd21"
      },
      "execution_count": null,
      "outputs": [
        {
          "output_type": "execute_result",
          "data": {
            "text/plain": [
              "         Name          Designation           Domain  Contact  \\\n",
              "0       Selva         DATA MANAGER         digitals    -8223   \n",
              "1       Selva         DATA MANAGER         digitals    -8224   \n",
              "2  Amit Kumar        CEO & FOUNDER        INSURANCE    -7902   \n",
              "3    KARTHICK      General Manager         AIRLINES    -8223   \n",
              "4     REVANTH  Marketing Executive       Restaurant    -1599   \n",
              "5    SANTHOSH    Technical Manager  Sun Electricals    -1567   \n",
              "\n",
              "                E_mail            Website     Address  District      State  \\\n",
              "0       hello@XYZI.com       WWW.XYZI.com  123 ABC St   Chennai  TamilNadu   \n",
              "1       hello@XYZI.com       WWW.XYZI.com  123 ABC St   Chennai  TamilNadu   \n",
              "2     hello@global.com     WWW.global.com  123 global     Erode  TamilNadu   \n",
              "3   hello@Borcelle.com   WWW.Borcelle.com  123 ABC St     Salem  TamilNadu   \n",
              "4  hello@CHRISTMAS.com  WWW.CHRISTMAS.com  123 ABC St  HYDRABAD  TamilNadu   \n",
              "5        hello@Sun.com        WWW.Sun.com  123 ABC St   Tirupur  TamilNadu   \n",
              "\n",
              "   Pincode  \n",
              "0   600113  \n",
              "1   600113  \n",
              "2   600115  \n",
              "3   600451  \n",
              "4   600001  \n",
              "5   641603  "
            ],
            "text/html": [
              "\n",
              "  <div id=\"df-4291814a-457c-4f35-a524-981e4bb94d19\" class=\"colab-df-container\">\n",
              "    <div>\n",
              "<style scoped>\n",
              "    .dataframe tbody tr th:only-of-type {\n",
              "        vertical-align: middle;\n",
              "    }\n",
              "\n",
              "    .dataframe tbody tr th {\n",
              "        vertical-align: top;\n",
              "    }\n",
              "\n",
              "    .dataframe thead th {\n",
              "        text-align: right;\n",
              "    }\n",
              "</style>\n",
              "<table border=\"1\" class=\"dataframe\">\n",
              "  <thead>\n",
              "    <tr style=\"text-align: right;\">\n",
              "      <th></th>\n",
              "      <th>Name</th>\n",
              "      <th>Designation</th>\n",
              "      <th>Domain</th>\n",
              "      <th>Contact</th>\n",
              "      <th>E_mail</th>\n",
              "      <th>Website</th>\n",
              "      <th>Address</th>\n",
              "      <th>District</th>\n",
              "      <th>State</th>\n",
              "      <th>Pincode</th>\n",
              "    </tr>\n",
              "  </thead>\n",
              "  <tbody>\n",
              "    <tr>\n",
              "      <th>0</th>\n",
              "      <td>Selva</td>\n",
              "      <td>DATA MANAGER</td>\n",
              "      <td>digitals</td>\n",
              "      <td>-8223</td>\n",
              "      <td>hello@XYZI.com</td>\n",
              "      <td>WWW.XYZI.com</td>\n",
              "      <td>123 ABC St</td>\n",
              "      <td>Chennai</td>\n",
              "      <td>TamilNadu</td>\n",
              "      <td>600113</td>\n",
              "    </tr>\n",
              "    <tr>\n",
              "      <th>1</th>\n",
              "      <td>Selva</td>\n",
              "      <td>DATA MANAGER</td>\n",
              "      <td>digitals</td>\n",
              "      <td>-8224</td>\n",
              "      <td>hello@XYZI.com</td>\n",
              "      <td>WWW.XYZI.com</td>\n",
              "      <td>123 ABC St</td>\n",
              "      <td>Chennai</td>\n",
              "      <td>TamilNadu</td>\n",
              "      <td>600113</td>\n",
              "    </tr>\n",
              "    <tr>\n",
              "      <th>2</th>\n",
              "      <td>Amit Kumar</td>\n",
              "      <td>CEO &amp; FOUNDER</td>\n",
              "      <td>INSURANCE</td>\n",
              "      <td>-7902</td>\n",
              "      <td>hello@global.com</td>\n",
              "      <td>WWW.global.com</td>\n",
              "      <td>123 global</td>\n",
              "      <td>Erode</td>\n",
              "      <td>TamilNadu</td>\n",
              "      <td>600115</td>\n",
              "    </tr>\n",
              "    <tr>\n",
              "      <th>3</th>\n",
              "      <td>KARTHICK</td>\n",
              "      <td>General Manager</td>\n",
              "      <td>AIRLINES</td>\n",
              "      <td>-8223</td>\n",
              "      <td>hello@Borcelle.com</td>\n",
              "      <td>WWW.Borcelle.com</td>\n",
              "      <td>123 ABC St</td>\n",
              "      <td>Salem</td>\n",
              "      <td>TamilNadu</td>\n",
              "      <td>600451</td>\n",
              "    </tr>\n",
              "    <tr>\n",
              "      <th>4</th>\n",
              "      <td>REVANTH</td>\n",
              "      <td>Marketing Executive</td>\n",
              "      <td>Restaurant</td>\n",
              "      <td>-1599</td>\n",
              "      <td>hello@CHRISTMAS.com</td>\n",
              "      <td>WWW.CHRISTMAS.com</td>\n",
              "      <td>123 ABC St</td>\n",
              "      <td>HYDRABAD</td>\n",
              "      <td>TamilNadu</td>\n",
              "      <td>600001</td>\n",
              "    </tr>\n",
              "    <tr>\n",
              "      <th>5</th>\n",
              "      <td>SANTHOSH</td>\n",
              "      <td>Technical Manager</td>\n",
              "      <td>Sun Electricals</td>\n",
              "      <td>-1567</td>\n",
              "      <td>hello@Sun.com</td>\n",
              "      <td>WWW.Sun.com</td>\n",
              "      <td>123 ABC St</td>\n",
              "      <td>Tirupur</td>\n",
              "      <td>TamilNadu</td>\n",
              "      <td>641603</td>\n",
              "    </tr>\n",
              "  </tbody>\n",
              "</table>\n",
              "</div>\n",
              "    <div class=\"colab-df-buttons\">\n",
              "\n",
              "  <div class=\"colab-df-container\">\n",
              "    <button class=\"colab-df-convert\" onclick=\"convertToInteractive('df-4291814a-457c-4f35-a524-981e4bb94d19')\"\n",
              "            title=\"Convert this dataframe to an interactive table.\"\n",
              "            style=\"display:none;\">\n",
              "\n",
              "  <svg xmlns=\"http://www.w3.org/2000/svg\" height=\"24px\" viewBox=\"0 -960 960 960\">\n",
              "    <path d=\"M120-120v-720h720v720H120Zm60-500h600v-160H180v160Zm220 220h160v-160H400v160Zm0 220h160v-160H400v160ZM180-400h160v-160H180v160Zm440 0h160v-160H620v160ZM180-180h160v-160H180v160Zm440 0h160v-160H620v160Z\"/>\n",
              "  </svg>\n",
              "    </button>\n",
              "\n",
              "  <style>\n",
              "    .colab-df-container {\n",
              "      display:flex;\n",
              "      gap: 12px;\n",
              "    }\n",
              "\n",
              "    .colab-df-convert {\n",
              "      background-color: #E8F0FE;\n",
              "      border: none;\n",
              "      border-radius: 50%;\n",
              "      cursor: pointer;\n",
              "      display: none;\n",
              "      fill: #1967D2;\n",
              "      height: 32px;\n",
              "      padding: 0 0 0 0;\n",
              "      width: 32px;\n",
              "    }\n",
              "\n",
              "    .colab-df-convert:hover {\n",
              "      background-color: #E2EBFA;\n",
              "      box-shadow: 0px 1px 2px rgba(60, 64, 67, 0.3), 0px 1px 3px 1px rgba(60, 64, 67, 0.15);\n",
              "      fill: #174EA6;\n",
              "    }\n",
              "\n",
              "    .colab-df-buttons div {\n",
              "      margin-bottom: 4px;\n",
              "    }\n",
              "\n",
              "    [theme=dark] .colab-df-convert {\n",
              "      background-color: #3B4455;\n",
              "      fill: #D2E3FC;\n",
              "    }\n",
              "\n",
              "    [theme=dark] .colab-df-convert:hover {\n",
              "      background-color: #434B5C;\n",
              "      box-shadow: 0px 1px 3px 1px rgba(0, 0, 0, 0.15);\n",
              "      filter: drop-shadow(0px 1px 2px rgba(0, 0, 0, 0.3));\n",
              "      fill: #FFFFFF;\n",
              "    }\n",
              "  </style>\n",
              "\n",
              "    <script>\n",
              "      const buttonEl =\n",
              "        document.querySelector('#df-4291814a-457c-4f35-a524-981e4bb94d19 button.colab-df-convert');\n",
              "      buttonEl.style.display =\n",
              "        google.colab.kernel.accessAllowed ? 'block' : 'none';\n",
              "\n",
              "      async function convertToInteractive(key) {\n",
              "        const element = document.querySelector('#df-4291814a-457c-4f35-a524-981e4bb94d19');\n",
              "        const dataTable =\n",
              "          await google.colab.kernel.invokeFunction('convertToInteractive',\n",
              "                                                    [key], {});\n",
              "        if (!dataTable) return;\n",
              "\n",
              "        const docLinkHtml = 'Like what you see? Visit the ' +\n",
              "          '<a target=\"_blank\" href=https://colab.research.google.com/notebooks/data_table.ipynb>data table notebook</a>'\n",
              "          + ' to learn more about interactive tables.';\n",
              "        element.innerHTML = '';\n",
              "        dataTable['output_type'] = 'display_data';\n",
              "        await google.colab.output.renderOutput(dataTable, element);\n",
              "        const docLink = document.createElement('div');\n",
              "        docLink.innerHTML = docLinkHtml;\n",
              "        element.appendChild(docLink);\n",
              "      }\n",
              "    </script>\n",
              "  </div>\n",
              "\n",
              "\n",
              "<div id=\"df-5f9ad09f-bca2-41c4-82e5-cf78d21872ca\">\n",
              "  <button class=\"colab-df-quickchart\" onclick=\"quickchart('df-5f9ad09f-bca2-41c4-82e5-cf78d21872ca')\"\n",
              "            title=\"Suggest charts\"\n",
              "            style=\"display:none;\">\n",
              "\n",
              "<svg xmlns=\"http://www.w3.org/2000/svg\" height=\"24px\"viewBox=\"0 0 24 24\"\n",
              "     width=\"24px\">\n",
              "    <g>\n",
              "        <path d=\"M19 3H5c-1.1 0-2 .9-2 2v14c0 1.1.9 2 2 2h14c1.1 0 2-.9 2-2V5c0-1.1-.9-2-2-2zM9 17H7v-7h2v7zm4 0h-2V7h2v10zm4 0h-2v-4h2v4z\"/>\n",
              "    </g>\n",
              "</svg>\n",
              "  </button>\n",
              "\n",
              "<style>\n",
              "  .colab-df-quickchart {\n",
              "      --bg-color: #E8F0FE;\n",
              "      --fill-color: #1967D2;\n",
              "      --hover-bg-color: #E2EBFA;\n",
              "      --hover-fill-color: #174EA6;\n",
              "      --disabled-fill-color: #AAA;\n",
              "      --disabled-bg-color: #DDD;\n",
              "  }\n",
              "\n",
              "  [theme=dark] .colab-df-quickchart {\n",
              "      --bg-color: #3B4455;\n",
              "      --fill-color: #D2E3FC;\n",
              "      --hover-bg-color: #434B5C;\n",
              "      --hover-fill-color: #FFFFFF;\n",
              "      --disabled-bg-color: #3B4455;\n",
              "      --disabled-fill-color: #666;\n",
              "  }\n",
              "\n",
              "  .colab-df-quickchart {\n",
              "    background-color: var(--bg-color);\n",
              "    border: none;\n",
              "    border-radius: 50%;\n",
              "    cursor: pointer;\n",
              "    display: none;\n",
              "    fill: var(--fill-color);\n",
              "    height: 32px;\n",
              "    padding: 0;\n",
              "    width: 32px;\n",
              "  }\n",
              "\n",
              "  .colab-df-quickchart:hover {\n",
              "    background-color: var(--hover-bg-color);\n",
              "    box-shadow: 0 1px 2px rgba(60, 64, 67, 0.3), 0 1px 3px 1px rgba(60, 64, 67, 0.15);\n",
              "    fill: var(--button-hover-fill-color);\n",
              "  }\n",
              "\n",
              "  .colab-df-quickchart-complete:disabled,\n",
              "  .colab-df-quickchart-complete:disabled:hover {\n",
              "    background-color: var(--disabled-bg-color);\n",
              "    fill: var(--disabled-fill-color);\n",
              "    box-shadow: none;\n",
              "  }\n",
              "\n",
              "  .colab-df-spinner {\n",
              "    border: 2px solid var(--fill-color);\n",
              "    border-color: transparent;\n",
              "    border-bottom-color: var(--fill-color);\n",
              "    animation:\n",
              "      spin 1s steps(1) infinite;\n",
              "  }\n",
              "\n",
              "  @keyframes spin {\n",
              "    0% {\n",
              "      border-color: transparent;\n",
              "      border-bottom-color: var(--fill-color);\n",
              "      border-left-color: var(--fill-color);\n",
              "    }\n",
              "    20% {\n",
              "      border-color: transparent;\n",
              "      border-left-color: var(--fill-color);\n",
              "      border-top-color: var(--fill-color);\n",
              "    }\n",
              "    30% {\n",
              "      border-color: transparent;\n",
              "      border-left-color: var(--fill-color);\n",
              "      border-top-color: var(--fill-color);\n",
              "      border-right-color: var(--fill-color);\n",
              "    }\n",
              "    40% {\n",
              "      border-color: transparent;\n",
              "      border-right-color: var(--fill-color);\n",
              "      border-top-color: var(--fill-color);\n",
              "    }\n",
              "    60% {\n",
              "      border-color: transparent;\n",
              "      border-right-color: var(--fill-color);\n",
              "    }\n",
              "    80% {\n",
              "      border-color: transparent;\n",
              "      border-right-color: var(--fill-color);\n",
              "      border-bottom-color: var(--fill-color);\n",
              "    }\n",
              "    90% {\n",
              "      border-color: transparent;\n",
              "      border-bottom-color: var(--fill-color);\n",
              "    }\n",
              "  }\n",
              "</style>\n",
              "\n",
              "  <script>\n",
              "    async function quickchart(key) {\n",
              "      const quickchartButtonEl =\n",
              "        document.querySelector('#' + key + ' button');\n",
              "      quickchartButtonEl.disabled = true;  // To prevent multiple clicks.\n",
              "      quickchartButtonEl.classList.add('colab-df-spinner');\n",
              "      try {\n",
              "        const charts = await google.colab.kernel.invokeFunction(\n",
              "            'suggestCharts', [key], {});\n",
              "      } catch (error) {\n",
              "        console.error('Error during call to suggestCharts:', error);\n",
              "      }\n",
              "      quickchartButtonEl.classList.remove('colab-df-spinner');\n",
              "      quickchartButtonEl.classList.add('colab-df-quickchart-complete');\n",
              "    }\n",
              "    (() => {\n",
              "      let quickchartButtonEl =\n",
              "        document.querySelector('#df-5f9ad09f-bca2-41c4-82e5-cf78d21872ca button');\n",
              "      quickchartButtonEl.style.display =\n",
              "        google.colab.kernel.accessAllowed ? 'block' : 'none';\n",
              "    })();\n",
              "  </script>\n",
              "</div>\n",
              "\n",
              "  <div id=\"id_fc7be90f-07e0-4268-9567-b47376af20f2\">\n",
              "    <style>\n",
              "      .colab-df-generate {\n",
              "        background-color: #E8F0FE;\n",
              "        border: none;\n",
              "        border-radius: 50%;\n",
              "        cursor: pointer;\n",
              "        display: none;\n",
              "        fill: #1967D2;\n",
              "        height: 32px;\n",
              "        padding: 0 0 0 0;\n",
              "        width: 32px;\n",
              "      }\n",
              "\n",
              "      .colab-df-generate:hover {\n",
              "        background-color: #E2EBFA;\n",
              "        box-shadow: 0px 1px 2px rgba(60, 64, 67, 0.3), 0px 1px 3px 1px rgba(60, 64, 67, 0.15);\n",
              "        fill: #174EA6;\n",
              "      }\n",
              "\n",
              "      [theme=dark] .colab-df-generate {\n",
              "        background-color: #3B4455;\n",
              "        fill: #D2E3FC;\n",
              "      }\n",
              "\n",
              "      [theme=dark] .colab-df-generate:hover {\n",
              "        background-color: #434B5C;\n",
              "        box-shadow: 0px 1px 3px 1px rgba(0, 0, 0, 0.15);\n",
              "        filter: drop-shadow(0px 1px 2px rgba(0, 0, 0, 0.3));\n",
              "        fill: #FFFFFF;\n",
              "      }\n",
              "    </style>\n",
              "    <button class=\"colab-df-generate\" onclick=\"generateWithVariable('df1')\"\n",
              "            title=\"Generate code using this dataframe.\"\n",
              "            style=\"display:none;\">\n",
              "\n",
              "  <svg xmlns=\"http://www.w3.org/2000/svg\" height=\"24px\"viewBox=\"0 0 24 24\"\n",
              "       width=\"24px\">\n",
              "    <path d=\"M7,19H8.4L18.45,9,17,7.55,7,17.6ZM5,21V16.75L18.45,3.32a2,2,0,0,1,2.83,0l1.4,1.43a1.91,1.91,0,0,1,.58,1.4,1.91,1.91,0,0,1-.58,1.4L9.25,21ZM18.45,9,17,7.55Zm-12,3A5.31,5.31,0,0,0,4.9,8.1,5.31,5.31,0,0,0,1,6.5,5.31,5.31,0,0,0,4.9,4.9,5.31,5.31,0,0,0,6.5,1,5.31,5.31,0,0,0,8.1,4.9,5.31,5.31,0,0,0,12,6.5,5.46,5.46,0,0,0,6.5,12Z\"/>\n",
              "  </svg>\n",
              "    </button>\n",
              "    <script>\n",
              "      (() => {\n",
              "      const buttonEl =\n",
              "        document.querySelector('#id_fc7be90f-07e0-4268-9567-b47376af20f2 button.colab-df-generate');\n",
              "      buttonEl.style.display =\n",
              "        google.colab.kernel.accessAllowed ? 'block' : 'none';\n",
              "\n",
              "      buttonEl.onclick = () => {\n",
              "        google.colab.notebook.generateWithVariable('df1');\n",
              "      }\n",
              "      })();\n",
              "    </script>\n",
              "  </div>\n",
              "\n",
              "    </div>\n",
              "  </div>\n"
            ]
          },
          "metadata": {},
          "execution_count": 89
        }
      ]
    }
  ]
}